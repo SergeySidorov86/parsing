{
 "cells": [
  {
   "cell_type": "code",
   "execution_count": 12,
   "metadata": {},
   "outputs": [],
   "source": [
    "import requests\n",
    "from bs4 import BeautifulSoup\n",
    "from selenium import webdriver\n",
    "import pandas as pd\n",
    "import math"
   ]
  },
  {
   "cell_type": "code",
   "execution_count": 66,
   "metadata": {},
   "outputs": [],
   "source": [
    "def numfromstr(s):\n",
    "    l = len(s)\n",
    "    i = 0\n",
    "    s_int = ''\n",
    "    while i < l:\n",
    "        if '0' <= s[i] <= '9':\n",
    "            s_int += s[i]\n",
    "        i = i + 1\n",
    "    if s_int:\n",
    "        return float(s_int)\n",
    "    else:\n",
    "        return 0\n"
   ]
  },
  {
   "cell_type": "code",
   "execution_count": 3,
   "metadata": {},
   "outputs": [],
   "source": [
    "def get_html(url, browser):\n",
    "    browser.get(url)\n",
    "    requiredHtml = browser.page_source\n",
    "    #r = requests.get(url,headers={'User-Agent': UserAgent().chrome})\n",
    "    return requiredHtml"
   ]
  },
  {
   "cell_type": "code",
   "execution_count": 31,
   "metadata": {},
   "outputs": [],
   "source": [
    "def get_list(url, browser):\n",
    "    soup = BeautifulSoup(get_html(url, browser), 'lxml')\n",
    "    num_items = int(soup.find('span', class_=\"total many\").span.text)\n",
    "    num_pages = min(50,math.ceil(num_items/100))\n",
    "    print(num_pages)\n",
    "    divs = soup.find_all('div', class_=\"dtList i-dtList j-card-item\")\n",
    "    links = []\n",
    "    for d in divs:\n",
    "        link = d.find('a', class_=\"ref_goods_n_p\")['href'].strip()\n",
    "        links.append(link)\n",
    "\n",
    "\n",
    "    if num_pages > 1:\n",
    "        for page in range(2,num_pages+1):\n",
    "            soup = BeautifulSoup(get_html(url + '&page=' + str(page), browser), 'lxml')\n",
    "            divs = soup.find_all('div', class_=\"dtList i-dtList j-card-item\")\n",
    "            for d in divs:\n",
    "                link = d.find('a', class_=\"ref_goods_n_p\")['href'].strip()\n",
    "                links.append(link)\n",
    "        \n",
    "    return links     "
   ]
  },
  {
   "cell_type": "code",
   "execution_count": 64,
   "metadata": {},
   "outputs": [],
   "source": [
    "def get_item(html):\n",
    "    soup = BeautifulSoup(html, 'lxml')\n",
    "    article=soup.find('span', class_='j-article').text.strip()\n",
    "    name=soup.find('span', class_='name').text.strip()\n",
    "    brand=soup.find('span', class_='brand').text.strip()\n",
    "    price = numfromstr(soup.find('span', class_='final-cost').text.strip())\n",
    "    orders_count = numfromstr(soup.find('span', class_='j-orders-count').text.strip())\n",
    "    comments = int(soup.find('a', id=\"comments_reviews_link\").i.text.strip())\n",
    "    rating = int(soup.find('div', class_=\"product-rating\").p.text.strip())\n",
    "    first_comment = soup.find('div', class_=\"time text-base-gray\").p.text.strip()\n",
    "    \n",
    "    item = {'article': article, 'brand': brand,'name': name,  'price': price,  'comments': comments,  'orders_count': orders_count,  'rating': rating}\n",
    "    return item\n",
    "\n"
   ]
  },
  {
   "cell_type": "code",
   "execution_count": null,
   "metadata": {},
   "outputs": [],
   "source": [
    "soup.find('div', class_=\"time text-base-gray\").p.text.strip()"
   ]
  },
  {
   "cell_type": "code",
   "execution_count": 62,
   "metadata": {},
   "outputs": [],
   "source": [
    "def main():\n",
    "    url = 'https://www.wildberries.ru/catalog/0/search.aspx?kind=2&subject=4&search=%D0%BA%D1%83%D0%BF%D0%B0%D0%BB%D1%8C%D0%BD%D0%B8%D0%BA%20%D0%B6%D0%B5%D0%BD%D1%81%D0%BA%D0%B8%D0%B9&sort=popular'\n",
    "\n",
    "    # путь к драйверу chrome\n",
    "    firefoxdriver = 'C:\\Work\\drive\\geckodriver.exe'\n",
    "    options = webdriver.FirefoxOptions()\n",
    "    options.add_argument('headless')  # для открытия headless-браузера\n",
    "    browser = webdriver.Firefox(executable_path=firefoxdriver, options=options) \n",
    "    \n",
    "    \n",
    "    \n",
    "    \n",
    "    links = pd.read_csv('links.csv',header=0, index_col=0)['0'].tolist()\n",
    "    links = links[:10]\n",
    "    \n",
    "    i=0\n",
    "    items = []\n",
    "    for link in links:\n",
    "        #print(link)\n",
    "        item = get_item(get_html(link + '&otzyvy?field=Date&order=Desc', browser))\n",
    "        print(item)\n",
    "        items.append(item)\n",
    "        i+=1\n",
    "        if i == int(i/100):\n",
    "            df = pd.DataFrame(items)\n",
    "            df['link']=links\n",
    "            df.to_excel('parsing.xlsx')\n",
    "            print(i)\n",
    "    df = pd.DataFrame(items)\n",
    "    df['link']=links\n",
    "    df.to_excel('parsing.xlsx')\n",
    "    \n",
    "    #print(len(links))\n",
    "    #print(links[:10])\n",
    "    \n",
    "    browser.close()\n",
    "    "
   ]
  },
  {
   "cell_type": "code",
   "execution_count": null,
   "metadata": {},
   "outputs": [],
   "source": [
    "def save_list():\n",
    "    url = 'https://www.wildberries.ru/catalog/0/search.aspx?kind=2&subject=4&search=%D0%BA%D1%83%D0%BF%D0%B0%D0%BB%D1%8C%D0%BD%D0%B8%D0%BA%20%D0%B6%D0%B5%D0%BD%D1%81%D0%BA%D0%B8%D0%B9&sort=popular'\n",
    "\n",
    "    # путь к драйверу chrome\n",
    "    firefoxdriver = 'C:\\Work\\drive\\geckodriver.exe'\n",
    "    options = webdriver.FirefoxOptions()\n",
    "    options.add_argument('headless')  # для открытия headless-браузера\n",
    "    browser = webdriver.Firefox(executable_path=firefoxdriver, options=options) \n",
    "    \n",
    "    links = get_list(url, browser)\n",
    "    \n",
    "    df = pd.DataFrame(links).to_csv('links.csv')\n",
    "\n",
    "    browser.close()   "
   ]
  },
  {
   "cell_type": "code",
   "execution_count": 67,
   "metadata": {},
   "outputs": [
    {
     "name": "stdout",
     "output_type": "stream",
     "text": [
      "{'article': '9428644', 'brand': 'Siman', 'name': 'Купальник', 'price': 1237.0, 'comments': 45, 'orders_count': 400.0, 'rating': 5}\n",
      "{'article': '6276422', 'brand': 'Solline', 'name': 'Купальник', 'price': 3263.0, 'comments': 214, 'orders_count': 2000.0, 'rating': 5}\n",
      "{'article': '9814242', 'brand': 'Jolifashn', 'name': 'Купальник Malibu', 'price': 5301.0, 'comments': 6, 'orders_count': 40.0, 'rating': 5}\n",
      "{'article': '7918735', 'brand': 'Womi Swimwear', 'name': 'Купальник Monika Black', 'price': 4986.0, 'comments': 34, 'orders_count': 200.0, 'rating': 3}\n",
      "{'article': '7417170', 'brand': 'Siman', 'name': 'Купальник Спортивный', 'price': 1105.0, 'comments': 530, 'orders_count': 1600.0, 'rating': 5}\n",
      "{'article': '888753', 'brand': 'Solline', 'name': 'Купальник', 'price': 2415.0, 'comments': 461, 'orders_count': 4500.0, 'rating': 4}\n",
      "{'article': '8092007', 'brand': 'Siman', 'name': 'Купальник', 'price': 975.0, 'comments': 232, 'orders_count': 800.0, 'rating': 5}\n",
      "{'article': '9365205', 'brand': 'Siman', 'name': 'Купальник', 'price': 1113.0, 'comments': 130, 'orders_count': 200.0, 'rating': 5}\n",
      "{'article': '4439986', 'brand': 'Jolifashn', 'name': 'Купальник', 'price': 3429.0, 'comments': 162, 'orders_count': 1200.0, 'rating': 4}\n",
      "{'article': '7918739', 'brand': 'Womi Swimwear', 'name': 'Купальник Monika Red', 'price': 6175.0, 'comments': 27, 'orders_count': 100.0, 'rating': 4}\n"
     ]
    }
   ],
   "source": [
    "main()"
   ]
  },
  {
   "cell_type": "code",
   "execution_count": 15,
   "metadata": {
    "scrolled": true
   },
   "outputs": [
    {
     "name": "stdout",
     "output_type": "stream",
     "text": [
      "2\n",
      "3\n",
      "4\n"
     ]
    }
   ],
   "source": [
    "for page in range(2,5):\n",
    "    print(page)"
   ]
  },
  {
   "cell_type": "code",
   "execution_count": null,
   "metadata": {},
   "outputs": [],
   "source": [
    "    items = []\n",
    "    for link in links:\n",
    "        #print(link)\n",
    "        item = get_item(get_html(link, browser))\n",
    "        #print(item)\n",
    "        items.append(item)\n",
    "    df = pd.DataFrame(items)\n",
    "    df['link']=links\n",
    "    df.to_excel('parsing.xlsx')"
   ]
  }
 ],
 "metadata": {
  "kernelspec": {
   "display_name": "Python 3",
   "language": "python",
   "name": "python3"
  },
  "language_info": {
   "codemirror_mode": {
    "name": "ipython",
    "version": 3
   },
   "file_extension": ".py",
   "mimetype": "text/x-python",
   "name": "python",
   "nbconvert_exporter": "python",
   "pygments_lexer": "ipython3",
   "version": "3.6.8"
  }
 },
 "nbformat": 4,
 "nbformat_minor": 2
}
