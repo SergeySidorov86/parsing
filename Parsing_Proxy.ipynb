{
 "cells": [
  {
   "cell_type": "code",
   "execution_count": 3,
   "metadata": {},
   "outputs": [],
   "source": [
    "import requests\n",
    "from bs4 import BeautifulSoup\n",
    "from random import choice"
   ]
  },
  {
   "cell_type": "code",
   "execution_count": 5,
   "metadata": {},
   "outputs": [],
   "source": [
    "def get_html(url):\n",
    "    # proxies = {'https': 'ipaddress:5000'}\n",
    "    p = get_proxy() # {'schema': '', 'address': ''}\n",
    "\n",
    "    proxy = { p['schema']: p['address']  }\n",
    "    r = requests.get(url, proxies=proxy, timeout=5)\n",
    "    return r.json()['origin']"
   ]
  },
  {
   "cell_type": "code",
   "execution_count": 6,
   "metadata": {},
   "outputs": [],
   "source": [
    "def get_proxy():\n",
    "    html = requests.get('https://free-proxy-list.net/').text\n",
    "    soup = BeautifulSoup(html, 'lxml')\n",
    "\n",
    "    trs = soup.find('table', id='proxylisttable').find_all('tr')[1:11]\n",
    "\n",
    "    proxies = []\n",
    "\n",
    "    for tr in trs:\n",
    "        tds = tr.find_all('td')\n",
    "        ip = tds[0].text.strip()\n",
    "        port = tds[1].text.strip()\n",
    "        schema = 'https' if 'yes' in tds[6].text.strip() else 'http'\n",
    "        proxy = {'schema': schema, 'address': ip + ':' + port}\n",
    "        proxies.append(proxy)\n",
    "\n",
    "    return choice(proxies)"
   ]
  },
  {
   "cell_type": "code",
   "execution_count": 9,
   "metadata": {},
   "outputs": [
    {
     "data": {
      "text/plain": [
       "{'schema': 'https', 'address': '85.187.247.58:53281'}"
      ]
     },
     "execution_count": 9,
     "metadata": {},
     "output_type": "execute_result"
    }
   ],
   "source": [
    "p = get_proxy()\n",
    "p"
   ]
  },
  {
   "cell_type": "code",
   "execution_count": null,
   "metadata": {},
   "outputs": [],
   "source": []
  }
 ],
 "metadata": {
  "kernelspec": {
   "display_name": "Python 3",
   "language": "python",
   "name": "python3"
  },
  "language_info": {
   "codemirror_mode": {
    "name": "ipython",
    "version": 3
   },
   "file_extension": ".py",
   "mimetype": "text/x-python",
   "name": "python",
   "nbconvert_exporter": "python",
   "pygments_lexer": "ipython3",
   "version": "3.6.8"
  }
 },
 "nbformat": 4,
 "nbformat_minor": 2
}
