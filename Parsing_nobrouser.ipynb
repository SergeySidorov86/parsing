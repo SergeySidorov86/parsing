{
 "cells": [
  {
   "cell_type": "code",
   "execution_count": 62,
   "metadata": {},
   "outputs": [],
   "source": [
    "import requests\n",
    "from bs4 import BeautifulSoup\n",
    "import pandas as pd"
   ]
  },
  {
   "cell_type": "code",
   "execution_count": 24,
   "metadata": {},
   "outputs": [],
   "source": [
    "def numfromstr(s):\n",
    "    l = len(s)\n",
    "    i = 0\n",
    "    s_int = ''\n",
    "    while i < l:\n",
    "        if '0' <= s[i] <= '9':\n",
    "            s_int += s[i]\n",
    "        i = i + 1\n",
    "    return float(s_int)\n"
   ]
  },
  {
   "cell_type": "code",
   "execution_count": 21,
   "metadata": {},
   "outputs": [],
   "source": [
    "def get_html(url):\n",
    "    r = requests.get(url)\n",
    "    return r.text"
   ]
  },
  {
   "cell_type": "code",
   "execution_count": 45,
   "metadata": {},
   "outputs": [],
   "source": [
    "def get_list(html):\n",
    "    soup = BeautifulSoup(html, 'lxml')\n",
    "    divs = soup.find_all('div', class_=\"dtList i-dtList j-card-item\")\n",
    "    links = []\n",
    "    for d in divs:\n",
    "        link = d.find('a', class_=\"ref_goods_n_p\")['href'].strip()\n",
    "        links.append(link)\n",
    "    return links"
   ]
  },
  {
   "cell_type": "code",
   "execution_count": 60,
   "metadata": {},
   "outputs": [],
   "source": [
    "def get_item(html):\n",
    "    soup = BeautifulSoup(html, 'lxml')\n",
    "    article=soup.find('span', class_='j-article').text.strip()\n",
    "    name=soup.find('span', class_='name').text.strip()\n",
    "    brand=soup.find('span', class_='brand').text.strip()\n",
    "    price = numfromstr(soup.find('span', class_='final-cost').text.strip())\n",
    "    orders_count=0# numfromstr(soup.find('span', class_='j-orders-count').text.strip())\n",
    "    comments = int(soup.find('a', id=\"comments_reviews_link\").i.text.strip())\n",
    "    rating = int(soup.find('div', class_=\"product-rating\").p.text.strip())\n",
    "    item = {'article': article, 'brand': brand,'name': name,  'price': price,  'comments': comments,  'orders_count': orders_count,  'rating': rating}\n",
    "    return item"
   ]
  },
  {
   "cell_type": "code",
   "execution_count": 96,
   "metadata": {},
   "outputs": [],
   "source": [
    "def main():\n",
    "    url = 'https://www.wildberries.ru/catalog/4507252/detail.aspx'\n",
    "    \n",
    "    links = get_list(get_html(url))\n",
    "    items = []\n",
    "    for link in links[:10]:\n",
    "        #print(link)\n",
    "        item = get_item(get_html(link))\n",
    "        #print(item)\n",
    "        items.append(item)\n",
    "    df = pd.DataFrame(items)\n",
    "    df['link']=links[:10]\n",
    "    #df.to_excel('parsing.xlsx')"
   ]
  },
  {
   "cell_type": "code",
   "execution_count": 97,
   "metadata": {
    "scrolled": true
   },
   "outputs": [],
   "source": [
    "main()"
   ]
  },
  {
   "cell_type": "code",
   "execution_count": 80,
   "metadata": {},
   "outputs": [
    {
     "data": {
      "text/plain": [
       "197.47"
      ]
     },
     "execution_count": 80,
     "metadata": {},
     "output_type": "execute_result"
    }
   ],
   "source": [
    "int(soup.find('span', class_=\"total many\").span.text)/100"
   ]
  },
  {
   "cell_type": "code",
   "execution_count": 99,
   "metadata": {},
   "outputs": [],
   "source": [
    "s = soup.find_all('div', class_=\"comment j-b-comment\")"
   ]
  },
  {
   "cell_type": "code",
   "execution_count": 104,
   "metadata": {},
   "outputs": [
    {
     "data": {
      "text/plain": [
       "<div class=\"content\" id=\"loginFrame\"></div>"
      ]
     },
     "execution_count": 104,
     "metadata": {},
     "output_type": "execute_result"
    }
   ],
   "source": [
    "soup.find('div', class_=\"content\")"
   ]
  },
  {
   "cell_type": "code",
   "execution_count": null,
   "metadata": {},
   "outputs": [],
   "source": []
  }
 ],
 "metadata": {
  "kernelspec": {
   "display_name": "Python 3",
   "language": "python",
   "name": "python3"
  },
  "language_info": {
   "codemirror_mode": {
    "name": "ipython",
    "version": 3
   },
   "file_extension": ".py",
   "mimetype": "text/x-python",
   "name": "python",
   "nbconvert_exporter": "python",
   "pygments_lexer": "ipython3",
   "version": "3.6.8"
  }
 },
 "nbformat": 4,
 "nbformat_minor": 2
}
